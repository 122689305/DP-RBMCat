{
 "cells": [
  {
   "cell_type": "code",
   "execution_count": 26,
   "metadata": {},
   "outputs": [
    {
     "name": "stdout",
     "output_type": "stream",
     "text": [
      "The autoreload extension is already loaded. To reload it, use:\n",
      "  %reload_ext autoreload\n"
     ]
    }
   ],
   "source": [
    "%load_ext autoreload\n",
    "%autoreload 2"
   ]
  },
  {
   "cell_type": "code",
   "execution_count": 27,
   "metadata": {},
   "outputs": [],
   "source": [
    "import RBMCat\n",
    "import numpy as np\n",
    "import warnings\n",
    "\n",
    "warnings.filterwarnings('ignore')"
   ]
  },
  {
   "cell_type": "code",
   "execution_count": 28,
   "metadata": {},
   "outputs": [
    {
     "name": "stderr",
     "output_type": "stream",
     "text": [
      "100%|██████████| 10/10 [00:00<00:00, 660.37it/s]"
     ]
    },
    {
     "name": "stdout",
     "output_type": "stream",
     "text": [
      "Epoch 0, error 4.666666666666667\n",
      "Epoch 1, error 3.0\n",
      "Epoch 2, error 2.6666666666666665\n",
      "Epoch 3, error 3.3333333333333335\n",
      "Epoch 4, error 3.0\n",
      "Epoch 5, error 4.0\n",
      "Epoch 6, error 2.0\n",
      "Epoch 7, error 3.0\n",
      "Epoch 8, error 2.3333333333333335\n",
      "Epoch 9, error 2.0\n"
     ]
    },
    {
     "name": "stderr",
     "output_type": "stream",
     "text": [
      "\n"
     ]
    }
   ],
   "source": [
    "X = [\n",
    "    [0, 0, 1, 1, 0, 0, 0, 1],\n",
    "    [0, 0, 1, 1, 0, 0, 0, 1],\n",
    "    [0, 0, 1, 0, 1, 0, 0, 1],\n",
    "    [0, 0, 1, 0, 1, 0, 0, 1],\n",
    "    [0, 0, 1, 0, 0, 1, 0, 1],\n",
    "    [0, 0, 1, 0, 0, 1, 0, 1],\n",
    "]\n",
    "X = np.array(X)\n",
    "cat = [(0, 3), (3, 6), (6, 8)]\n",
    "W, b_v, b_h, loss_df = RBMCat.RBM_train(X, cat, max_iters=10)"
   ]
  },
  {
   "cell_type": "code",
   "execution_count": 42,
   "metadata": {},
   "outputs": [
    {
     "data": {
      "image/png": "[encoded data removed]",
      "text/plain": [
       "<Figure size 720x360 with 1 Axes>"
      ]
     },
     "metadata": {
      "needs_background": "light"
     },
     "output_type": "display_data"
    }
   ],
   "source": [
    "RBMCat.plot_loss(loss_df)"
   ]
  },
  {
   "cell_type": "code",
   "execution_count": 51,
   "metadata": {},
   "outputs": [
    {
     "data": {
      "text/plain": [
       "(array([[0., 0., 1., 0., 0., 1., 0., 1.],\n",
       "        [0., 0., 1., 0., 1., 0., 0., 1.],\n",
       "        [0., 0., 1., 0., 1., 0., 1., 0.],\n",
       "        [0., 0., 1., 1., 0., 0., 0., 1.],\n",
       "        [0., 1., 0., 0., 1., 0., 0., 1.],\n",
       "        [1., 0., 0., 0., 1., 0., 0., 1.]]),\n",
       " array([324, 315,   1, 355,   1,   3]))"
      ]
     },
     "execution_count": 51,
     "metadata": {},
     "output_type": "execute_result"
    }
   ],
   "source": [
    "n_samples = 1000\n",
    "sample = RBMCat.sample(n_samples, W, b_v, b_h, cat)\n",
    "np.unique(sample, axis=0, return_counts=True)"
   ]
  },
  {
   "cell_type": "code",
   "execution_count": 29,
   "metadata": {},
   "outputs": [
    {
     "name": "stderr",
     "output_type": "stream",
     "text": [
      "\n",
      "  0%|          | 0/20 [00:00<?, ?it/s]\u001b[A\n",
      "  5%|▌         | 1/20 [00:20<06:22, 20.11s/it]\u001b[A"
     ]
    },
    {
     "name": "stdout",
     "output_type": "stream",
     "text": [
      "Epoch 0, error 10.5625\n"
     ]
    },
    {
     "name": "stderr",
     "output_type": "stream",
     "text": [
      "\n",
      " 10%|█         | 2/20 [00:40<06:02, 20.13s/it]\u001b[A"
     ]
    },
    {
     "name": "stdout",
     "output_type": "stream",
     "text": [
      "Epoch 1, error 9.65625\n"
     ]
    },
    {
     "name": "stderr",
     "output_type": "stream",
     "text": [
      "\n",
      " 15%|█▌        | 3/20 [01:00<05:42, 20.15s/it]\u001b[A"
     ]
    },
    {
     "name": "stdout",
     "output_type": "stream",
     "text": [
      "Epoch 2, error 9.53125\n"
     ]
    },
    {
     "name": "stderr",
     "output_type": "stream",
     "text": [
      "\n",
      " 20%|██        | 4/20 [01:20<05:22, 20.16s/it]\u001b[A"
     ]
    },
    {
     "name": "stdout",
     "output_type": "stream",
     "text": [
      "Epoch 3, error 9.28125\n"
     ]
    },
    {
     "name": "stderr",
     "output_type": "stream",
     "text": [
      "\n",
      " 25%|██▌       | 5/20 [01:40<05:02, 20.18s/it]\u001b[A"
     ]
    },
    {
     "name": "stdout",
     "output_type": "stream",
     "text": [
      "Epoch 4, error 8.625\n"
     ]
    },
    {
     "name": "stderr",
     "output_type": "stream",
     "text": [
      "\n",
      " 30%|███       | 6/20 [02:01<04:42, 20.17s/it]\u001b[A"
     ]
    },
    {
     "name": "stdout",
     "output_type": "stream",
     "text": [
      "Epoch 5, error 7.71875\n"
     ]
    },
    {
     "name": "stderr",
     "output_type": "stream",
     "text": [
      "\n",
      " 35%|███▌      | 7/20 [02:21<04:22, 20.19s/it]\u001b[A"
     ]
    },
    {
     "name": "stdout",
     "output_type": "stream",
     "text": [
      "Epoch 6, error 7.375\n"
     ]
    },
    {
     "name": "stderr",
     "output_type": "stream",
     "text": [
      "\n",
      " 40%|████      | 8/20 [02:41<04:02, 20.18s/it]\u001b[A"
     ]
    },
    {
     "name": "stdout",
     "output_type": "stream",
     "text": [
      "Epoch 7, error 7.65625\n"
     ]
    },
    {
     "name": "stderr",
     "output_type": "stream",
     "text": [
      "\n",
      " 45%|████▌     | 9/20 [03:01<03:42, 20.19s/it]\u001b[A"
     ]
    },
    {
     "name": "stdout",
     "output_type": "stream",
     "text": [
      "Epoch 8, error 7.40625\n"
     ]
    },
    {
     "name": "stderr",
     "output_type": "stream",
     "text": [
      "\n",
      " 50%|█████     | 10/20 [03:21<03:22, 20.20s/it]\u001b[A"
     ]
    },
    {
     "name": "stdout",
     "output_type": "stream",
     "text": [
      "Epoch 9, error 6.65625\n"
     ]
    },
    {
     "name": "stderr",
     "output_type": "stream",
     "text": [
      "\n",
      " 55%|█████▌    | 11/20 [03:42<03:01, 20.22s/it]\u001b[A"
     ]
    },
    {
     "name": "stdout",
     "output_type": "stream",
     "text": [
      "Epoch 10, error 7.75\n"
     ]
    },
    {
     "name": "stderr",
     "output_type": "stream",
     "text": [
      "\n",
      " 60%|██████    | 12/20 [04:02<02:41, 20.22s/it]\u001b[A"
     ]
    },
    {
     "name": "stdout",
     "output_type": "stream",
     "text": [
      "Epoch 11, error 6.8125\n"
     ]
    },
    {
     "name": "stderr",
     "output_type": "stream",
     "text": [
      "\n",
      " 65%|██████▌   | 13/20 [04:22<02:21, 20.22s/it]\u001b[A"
     ]
    },
    {
     "name": "stdout",
     "output_type": "stream",
     "text": [
      "Epoch 12, error 7.4375\n"
     ]
    },
    {
     "name": "stderr",
     "output_type": "stream",
     "text": [
      "\n",
      " 70%|███████   | 14/20 [04:42<02:01, 20.23s/it]\u001b[A"
     ]
    },
    {
     "name": "stdout",
     "output_type": "stream",
     "text": [
      "Epoch 13, error 7.6875\n"
     ]
    },
    {
     "name": "stderr",
     "output_type": "stream",
     "text": [
      "\n",
      " 75%|███████▌  | 15/20 [05:03<01:41, 20.24s/it]\u001b[A"
     ]
    },
    {
     "name": "stdout",
     "output_type": "stream",
     "text": [
      "Epoch 14, error 7.71875\n"
     ]
    },
    {
     "name": "stderr",
     "output_type": "stream",
     "text": [
      "\n",
      " 80%|████████  | 16/20 [05:23<01:20, 20.24s/it]\u001b[A"
     ]
    },
    {
     "name": "stdout",
     "output_type": "stream",
     "text": [
      "Epoch 15, error 7.34375\n"
     ]
    },
    {
     "name": "stderr",
     "output_type": "stream",
     "text": [
      "\n",
      " 85%|████████▌ | 17/20 [05:43<01:00, 20.26s/it]\u001b[A"
     ]
    },
    {
     "name": "stdout",
     "output_type": "stream",
     "text": [
      "Epoch 16, error 6.84375\n"
     ]
    },
    {
     "name": "stderr",
     "output_type": "stream",
     "text": [
      "\n",
      " 90%|█████████ | 18/20 [06:04<00:40, 20.30s/it]\u001b[A"
     ]
    },
    {
     "name": "stdout",
     "output_type": "stream",
     "text": [
      "Epoch 17, error 7.25\n"
     ]
    },
    {
     "name": "stderr",
     "output_type": "stream",
     "text": [
      "\n",
      " 95%|█████████▌| 19/20 [06:24<00:20, 20.33s/it]\u001b[A"
     ]
    },
    {
     "name": "stdout",
     "output_type": "stream",
     "text": [
      "Epoch 18, error 7.1875\n"
     ]
    },
    {
     "name": "stderr",
     "output_type": "stream",
     "text": [
      "\n",
      "100%|██████████| 20/20 [06:44<00:00, 20.24s/it]\u001b[A"
     ]
    },
    {
     "name": "stdout",
     "output_type": "stream",
     "text": [
      "Epoch 19, error 7.09375\n"
     ]
    },
    {
     "name": "stderr",
     "output_type": "stream",
     "text": [
      "\n"
     ]
    },
    {
     "name": "stdout",
     "output_type": "stream",
     "text": [
      "[['Private' 'Bachelors' 'Married-spouse-absent' ... 'Male'\n",
      "  'United-States' '>50K']\n",
      " ['Self-emp-inc' 'Bachelors' 'Married-AF-spouse' ... 'Female'\n",
      "  'United-States' '<=50K']\n",
      " ['Private' 'Bachelors' 'Never-married' ... 'Male' 'Nicaragua' '<=50K']\n",
      " ...\n",
      " ['Self-emp-not-inc' 'Bachelors' 'Never-married' ... 'Female'\n",
      "  'United-States' '<=50K']\n",
      " ['Local-gov' 'Assoc-voc' 'Separated' ... 'Male' 'United-States' '>50K']\n",
      " ['Private' 'Some-college' 'Married-civ-spouse' ... 'Female'\n",
      "  'United-States' '<=50K']]\n"
     ]
    }
   ],
   "source": [
    "import sdgym\n",
    "from sdgym.synthesizers import Identity, Independent\n",
    "\n",
    "metrics = ['CSTest', 'BNLogLikelihood', 'DiscreteKLDivergence']\n",
    "synthesizers = [Identity, Independent, RBMCat.RBMCat]\n",
    "scores = sdgym.run(synthesizers=synthesizers, datasets=['adult'], metrics=metrics)"
   ]
  },
  {
   "cell_type": "code",
   "execution_count": 30,
   "metadata": {},
   "outputs": [
    {
     "data": {
      "text/html": [
       "<div>\n",
       "<style scoped>\n",
       "    .dataframe tbody tr th:only-of-type {\n",
       "        vertical-align: middle;\n",
       "    }\n",
       "\n",
       "    .dataframe tbody tr th {\n",
       "        vertical-align: top;\n",
       "    }\n",
       "\n",
       "    .dataframe thead th {\n",
       "        text-align: right;\n",
       "    }\n",
       "</style>\n",
       "<table border=\"1\" class=\"dataframe\">\n",
       "  <thead>\n",
       "    <tr style=\"text-align: right;\">\n",
       "      <th></th>\n",
       "      <th>synthesizer</th>\n",
       "      <th>dataset</th>\n",
       "      <th>modality</th>\n",
       "      <th>iteration</th>\n",
       "      <th>metric</th>\n",
       "      <th>error</th>\n",
       "      <th>score</th>\n",
       "      <th>metric_time</th>\n",
       "      <th>model_time</th>\n",
       "      <th>run_id</th>\n",
       "    </tr>\n",
       "  </thead>\n",
       "  <tbody>\n",
       "    <tr>\n",
       "      <th>0</th>\n",
       "      <td>Identity</td>\n",
       "      <td>adult</td>\n",
       "      <td>single-table</td>\n",
       "      <td>0</td>\n",
       "      <td>CSTest</td>\n",
       "      <td>None</td>\n",
       "      <td>1.000000</td>\n",
       "      <td>0.027300</td>\n",
       "      <td>0.000483</td>\n",
       "      <td>db02d690-7</td>\n",
       "    </tr>\n",
       "    <tr>\n",
       "      <th>1</th>\n",
       "      <td>Identity</td>\n",
       "      <td>adult</td>\n",
       "      <td>single-table</td>\n",
       "      <td>0</td>\n",
       "      <td>BNLogLikelihood</td>\n",
       "      <td>None</td>\n",
       "      <td>-8.855857</td>\n",
       "      <td>5.148546</td>\n",
       "      <td>0.000483</td>\n",
       "      <td>db02d690-7</td>\n",
       "    </tr>\n",
       "    <tr>\n",
       "      <th>2</th>\n",
       "      <td>Identity</td>\n",
       "      <td>adult</td>\n",
       "      <td>single-table</td>\n",
       "      <td>0</td>\n",
       "      <td>DiscreteKLDivergence</td>\n",
       "      <td>None</td>\n",
       "      <td>1.000000</td>\n",
       "      <td>0.944180</td>\n",
       "      <td>0.000483</td>\n",
       "      <td>db02d690-7</td>\n",
       "    </tr>\n",
       "    <tr>\n",
       "      <th>0</th>\n",
       "      <td>Independent</td>\n",
       "      <td>adult</td>\n",
       "      <td>single-table</td>\n",
       "      <td>0</td>\n",
       "      <td>CSTest</td>\n",
       "      <td>None</td>\n",
       "      <td>0.999832</td>\n",
       "      <td>0.027196</td>\n",
       "      <td>0.463960</td>\n",
       "      <td>db02d690-7</td>\n",
       "    </tr>\n",
       "    <tr>\n",
       "      <th>1</th>\n",
       "      <td>Independent</td>\n",
       "      <td>adult</td>\n",
       "      <td>single-table</td>\n",
       "      <td>0</td>\n",
       "      <td>BNLogLikelihood</td>\n",
       "      <td>None</td>\n",
       "      <td>-15.096171</td>\n",
       "      <td>5.118632</td>\n",
       "      <td>0.463960</td>\n",
       "      <td>db02d690-7</td>\n",
       "    </tr>\n",
       "    <tr>\n",
       "      <th>2</th>\n",
       "      <td>Independent</td>\n",
       "      <td>adult</td>\n",
       "      <td>single-table</td>\n",
       "      <td>0</td>\n",
       "      <td>DiscreteKLDivergence</td>\n",
       "      <td>None</td>\n",
       "      <td>0.889489</td>\n",
       "      <td>0.944782</td>\n",
       "      <td>0.463960</td>\n",
       "      <td>db02d690-7</td>\n",
       "    </tr>\n",
       "    <tr>\n",
       "      <th>0</th>\n",
       "      <td>RBMCat</td>\n",
       "      <td>adult</td>\n",
       "      <td>single-table</td>\n",
       "      <td>0</td>\n",
       "      <td>CSTest</td>\n",
       "      <td>None</td>\n",
       "      <td>0.994542</td>\n",
       "      <td>0.027253</td>\n",
       "      <td>425.304456</td>\n",
       "      <td>db02d690-7</td>\n",
       "    </tr>\n",
       "    <tr>\n",
       "      <th>1</th>\n",
       "      <td>RBMCat</td>\n",
       "      <td>adult</td>\n",
       "      <td>single-table</td>\n",
       "      <td>0</td>\n",
       "      <td>BNLogLikelihood</td>\n",
       "      <td>None</td>\n",
       "      <td>-15.483217</td>\n",
       "      <td>5.094831</td>\n",
       "      <td>425.304456</td>\n",
       "      <td>db02d690-7</td>\n",
       "    </tr>\n",
       "    <tr>\n",
       "      <th>2</th>\n",
       "      <td>RBMCat</td>\n",
       "      <td>adult</td>\n",
       "      <td>single-table</td>\n",
       "      <td>0</td>\n",
       "      <td>DiscreteKLDivergence</td>\n",
       "      <td>None</td>\n",
       "      <td>0.788221</td>\n",
       "      <td>0.953515</td>\n",
       "      <td>425.304456</td>\n",
       "      <td>db02d690-7</td>\n",
       "    </tr>\n",
       "  </tbody>\n",
       "</table>\n",
       "</div>"
      ],
      "text/plain": [
       "   synthesizer dataset      modality  iteration                metric error  \\\n",
       "0     Identity   adult  single-table          0                CSTest  None   \n",
       "1     Identity   adult  single-table          0       BNLogLikelihood  None   \n",
       "2     Identity   adult  single-table          0  DiscreteKLDivergence  None   \n",
       "0  Independent   adult  single-table          0                CSTest  None   \n",
       "1  Independent   adult  single-table          0       BNLogLikelihood  None   \n",
       "2  Independent   adult  single-table          0  DiscreteKLDivergence  None   \n",
       "0       RBMCat   adult  single-table          0                CSTest  None   \n",
       "1       RBMCat   adult  single-table          0       BNLogLikelihood  None   \n",
       "2       RBMCat   adult  single-table          0  DiscreteKLDivergence  None   \n",
       "\n",
       "       score  metric_time  model_time      run_id  \n",
       "0   1.000000     0.027300    0.000483  db02d690-7  \n",
       "1  -8.855857     5.148546    0.000483  db02d690-7  \n",
       "2   1.000000     0.944180    0.000483  db02d690-7  \n",
       "0   0.999832     0.027196    0.463960  db02d690-7  \n",
       "1 -15.096171     5.118632    0.463960  db02d690-7  \n",
       "2   0.889489     0.944782    0.463960  db02d690-7  \n",
       "0   0.994542     0.027253  425.304456  db02d690-7  \n",
       "1 -15.483217     5.094831  425.304456  db02d690-7  \n",
       "2   0.788221     0.953515  425.304456  db02d690-7  "
      ]
     },
     "execution_count": 30,
     "metadata": {},
     "output_type": "execute_result"
    }
   ],
   "source": [
    "scores"
   ]
  },
  {
   "cell_type": "code",
   "execution_count": 24,
   "metadata": {},
   "outputs": [
    {
     "name": "stderr",
     "output_type": "stream",
     "text": [
      "\n",
      "  0%|          | 0/20 [00:00<?, ?it/s]\u001b[A\n",
      "  5%|▌         | 1/20 [00:10<03:18, 10.46s/it]\u001b[A"
     ]
    },
    {
     "name": "stdout",
     "output_type": "stream",
     "text": [
      "Epoch 0, error 3.34375\n"
     ]
    },
    {
     "name": "stderr",
     "output_type": "stream",
     "text": [
      "\n",
      " 10%|█         | 2/20 [00:20<03:08, 10.45s/it]\u001b[A"
     ]
    },
    {
     "name": "stdout",
     "output_type": "stream",
     "text": [
      "Epoch 1, error 3.0625\n"
     ]
    },
    {
     "name": "stderr",
     "output_type": "stream",
     "text": [
      "\n",
      " 15%|█▌        | 3/20 [00:31<02:57, 10.46s/it]\u001b[A"
     ]
    },
    {
     "name": "stdout",
     "output_type": "stream",
     "text": [
      "Epoch 2, error 4.1875\n"
     ]
    },
    {
     "name": "stderr",
     "output_type": "stream",
     "text": [
      "\n",
      " 20%|██        | 4/20 [00:41<02:47, 10.45s/it]\u001b[A"
     ]
    },
    {
     "name": "stdout",
     "output_type": "stream",
     "text": [
      "Epoch 3, error 3.28125\n"
     ]
    },
    {
     "name": "stderr",
     "output_type": "stream",
     "text": [
      "\n",
      " 25%|██▌       | 5/20 [00:52<02:36, 10.44s/it]\u001b[A"
     ]
    },
    {
     "name": "stdout",
     "output_type": "stream",
     "text": [
      "Epoch 4, error 3.15625\n"
     ]
    },
    {
     "name": "stderr",
     "output_type": "stream",
     "text": [
      "\n",
      " 30%|███       | 6/20 [01:02<02:26, 10.44s/it]\u001b[A"
     ]
    },
    {
     "name": "stdout",
     "output_type": "stream",
     "text": [
      "Epoch 5, error 3.34375\n"
     ]
    },
    {
     "name": "stderr",
     "output_type": "stream",
     "text": [
      "\n",
      " 35%|███▌      | 7/20 [01:13<02:15, 10.44s/it]\u001b[A"
     ]
    },
    {
     "name": "stdout",
     "output_type": "stream",
     "text": [
      "Epoch 6, error 2.1875\n"
     ]
    },
    {
     "name": "stderr",
     "output_type": "stream",
     "text": [
      "\n",
      " 40%|████      | 8/20 [01:23<02:05, 10.44s/it]\u001b[A"
     ]
    },
    {
     "name": "stdout",
     "output_type": "stream",
     "text": [
      "Epoch 7, error 2.34375\n"
     ]
    },
    {
     "name": "stderr",
     "output_type": "stream",
     "text": [
      "\n",
      " 45%|████▌     | 9/20 [01:34<01:54, 10.45s/it]\u001b[A"
     ]
    },
    {
     "name": "stdout",
     "output_type": "stream",
     "text": [
      "Epoch 8, error 2.125\n"
     ]
    },
    {
     "name": "stderr",
     "output_type": "stream",
     "text": [
      "\n",
      " 50%|█████     | 10/20 [01:44<01:44, 10.47s/it]\u001b[A"
     ]
    },
    {
     "name": "stdout",
     "output_type": "stream",
     "text": [
      "Epoch 9, error 2.125\n"
     ]
    },
    {
     "name": "stderr",
     "output_type": "stream",
     "text": [
      "\n",
      " 55%|█████▌    | 11/20 [01:55<01:34, 10.47s/it]\u001b[A"
     ]
    },
    {
     "name": "stdout",
     "output_type": "stream",
     "text": [
      "Epoch 10, error 2.3125\n"
     ]
    },
    {
     "name": "stderr",
     "output_type": "stream",
     "text": [
      "\n",
      " 60%|██████    | 12/20 [02:05<01:23, 10.48s/it]\u001b[A"
     ]
    },
    {
     "name": "stdout",
     "output_type": "stream",
     "text": [
      "Epoch 11, error 2.46875\n"
     ]
    },
    {
     "name": "stderr",
     "output_type": "stream",
     "text": [
      "\n",
      " 65%|██████▌   | 13/20 [02:15<01:13, 10.48s/it]\u001b[A"
     ]
    },
    {
     "name": "stdout",
     "output_type": "stream",
     "text": [
      "Epoch 12, error 2.0625\n"
     ]
    },
    {
     "name": "stderr",
     "output_type": "stream",
     "text": [
      "\n",
      " 70%|███████   | 14/20 [02:26<01:02, 10.48s/it]\u001b[A"
     ]
    },
    {
     "name": "stdout",
     "output_type": "stream",
     "text": [
      "Epoch 13, error 2.15625\n"
     ]
    },
    {
     "name": "stderr",
     "output_type": "stream",
     "text": [
      "\n",
      " 75%|███████▌  | 15/20 [02:36<00:52, 10.48s/it]\u001b[A"
     ]
    },
    {
     "name": "stdout",
     "output_type": "stream",
     "text": [
      "Epoch 14, error 2.125\n"
     ]
    },
    {
     "name": "stderr",
     "output_type": "stream",
     "text": [
      "\n",
      " 80%|████████  | 16/20 [02:47<00:41, 10.48s/it]\u001b[A"
     ]
    },
    {
     "name": "stdout",
     "output_type": "stream",
     "text": [
      "Epoch 15, error 2.8125\n"
     ]
    },
    {
     "name": "stderr",
     "output_type": "stream",
     "text": [
      "\n",
      " 85%|████████▌ | 17/20 [02:57<00:31, 10.47s/it]\u001b[A"
     ]
    },
    {
     "name": "stdout",
     "output_type": "stream",
     "text": [
      "Epoch 16, error 2.21875\n"
     ]
    },
    {
     "name": "stderr",
     "output_type": "stream",
     "text": [
      "\n",
      " 90%|█████████ | 18/20 [03:08<00:20, 10.47s/it]\u001b[A"
     ]
    },
    {
     "name": "stdout",
     "output_type": "stream",
     "text": [
      "Epoch 17, error 1.8125\n"
     ]
    },
    {
     "name": "stderr",
     "output_type": "stream",
     "text": [
      "\n",
      " 95%|█████████▌| 19/20 [03:18<00:10, 10.47s/it]\u001b[A"
     ]
    },
    {
     "name": "stdout",
     "output_type": "stream",
     "text": [
      "Epoch 18, error 2.0625\n"
     ]
    },
    {
     "name": "stderr",
     "output_type": "stream",
     "text": [
      "\n",
      "100%|██████████| 20/20 [03:29<00:00, 10.46s/it]\u001b[A"
     ]
    },
    {
     "name": "stdout",
     "output_type": "stream",
     "text": [
      "Epoch 19, error 1.96875\n"
     ]
    },
    {
     "name": "stderr",
     "output_type": "stream",
     "text": [
      "\n"
     ]
    },
    {
     "name": "stdout",
     "output_type": "stream",
     "text": [
      "[['no' 'no' 'yes' ... 'yes' 'no' 'yes']\n",
      " ['no' 'no' 'yes' ... 'no' 'no' 'no']\n",
      " ['no' 'no' 'yes' ... 'no' 'no' 'no']\n",
      " ...\n",
      " ['no' 'no' 'yes' ... 'no' 'no' 'no']\n",
      " ['no' 'no' 'yes' ... 'no' 'no' 'yes']\n",
      " ['no' 'no' 'no' ... 'no' 'no' 'no']]\n"
     ]
    },
    {
     "data": {
      "text/html": [
       "<div>\n",
       "<style scoped>\n",
       "    .dataframe tbody tr th:only-of-type {\n",
       "        vertical-align: middle;\n",
       "    }\n",
       "\n",
       "    .dataframe tbody tr th {\n",
       "        vertical-align: top;\n",
       "    }\n",
       "\n",
       "    .dataframe thead th {\n",
       "        text-align: right;\n",
       "    }\n",
       "</style>\n",
       "<table border=\"1\" class=\"dataframe\">\n",
       "  <thead>\n",
       "    <tr style=\"text-align: right;\">\n",
       "      <th></th>\n",
       "      <th>synthesizer</th>\n",
       "      <th>dataset</th>\n",
       "      <th>modality</th>\n",
       "      <th>iteration</th>\n",
       "      <th>metric</th>\n",
       "      <th>error</th>\n",
       "      <th>score</th>\n",
       "      <th>metric_time</th>\n",
       "      <th>model_time</th>\n",
       "      <th>run_id</th>\n",
       "    </tr>\n",
       "  </thead>\n",
       "  <tbody>\n",
       "    <tr>\n",
       "      <th>0</th>\n",
       "      <td>Identity</td>\n",
       "      <td>asia</td>\n",
       "      <td>single-table</td>\n",
       "      <td>0</td>\n",
       "      <td>CSTest</td>\n",
       "      <td>None</td>\n",
       "      <td>1.000000</td>\n",
       "      <td>0.015942</td>\n",
       "      <td>0.000232</td>\n",
       "      <td>c477cca0-0</td>\n",
       "    </tr>\n",
       "    <tr>\n",
       "      <th>1</th>\n",
       "      <td>Identity</td>\n",
       "      <td>asia</td>\n",
       "      <td>single-table</td>\n",
       "      <td>0</td>\n",
       "      <td>BNLogLikelihood</td>\n",
       "      <td>None</td>\n",
       "      <td>-2.236680</td>\n",
       "      <td>2.501837</td>\n",
       "      <td>0.000232</td>\n",
       "      <td>c477cca0-0</td>\n",
       "    </tr>\n",
       "    <tr>\n",
       "      <th>2</th>\n",
       "      <td>Identity</td>\n",
       "      <td>asia</td>\n",
       "      <td>single-table</td>\n",
       "      <td>0</td>\n",
       "      <td>DiscreteKLDivergence</td>\n",
       "      <td>None</td>\n",
       "      <td>1.000000</td>\n",
       "      <td>0.466889</td>\n",
       "      <td>0.000232</td>\n",
       "      <td>c477cca0-0</td>\n",
       "    </tr>\n",
       "    <tr>\n",
       "      <th>0</th>\n",
       "      <td>Independent</td>\n",
       "      <td>asia</td>\n",
       "      <td>single-table</td>\n",
       "      <td>0</td>\n",
       "      <td>CSTest</td>\n",
       "      <td>None</td>\n",
       "      <td>0.994398</td>\n",
       "      <td>0.015621</td>\n",
       "      <td>0.023298</td>\n",
       "      <td>c477cca0-0</td>\n",
       "    </tr>\n",
       "    <tr>\n",
       "      <th>1</th>\n",
       "      <td>Independent</td>\n",
       "      <td>asia</td>\n",
       "      <td>single-table</td>\n",
       "      <td>0</td>\n",
       "      <td>BNLogLikelihood</td>\n",
       "      <td>None</td>\n",
       "      <td>-4.939449</td>\n",
       "      <td>2.503420</td>\n",
       "      <td>0.023298</td>\n",
       "      <td>c477cca0-0</td>\n",
       "    </tr>\n",
       "    <tr>\n",
       "      <th>2</th>\n",
       "      <td>Independent</td>\n",
       "      <td>asia</td>\n",
       "      <td>single-table</td>\n",
       "      <td>0</td>\n",
       "      <td>DiscreteKLDivergence</td>\n",
       "      <td>None</td>\n",
       "      <td>0.944769</td>\n",
       "      <td>0.468628</td>\n",
       "      <td>0.023298</td>\n",
       "      <td>c477cca0-0</td>\n",
       "    </tr>\n",
       "    <tr>\n",
       "      <th>0</th>\n",
       "      <td>RBMCat</td>\n",
       "      <td>asia</td>\n",
       "      <td>single-table</td>\n",
       "      <td>0</td>\n",
       "      <td>CSTest</td>\n",
       "      <td>None</td>\n",
       "      <td>1.000000</td>\n",
       "      <td>0.015214</td>\n",
       "      <td>220.249259</td>\n",
       "      <td>c477cca0-0</td>\n",
       "    </tr>\n",
       "    <tr>\n",
       "      <th>1</th>\n",
       "      <td>RBMCat</td>\n",
       "      <td>asia</td>\n",
       "      <td>single-table</td>\n",
       "      <td>0</td>\n",
       "      <td>BNLogLikelihood</td>\n",
       "      <td>None</td>\n",
       "      <td>-3.492443</td>\n",
       "      <td>2.500742</td>\n",
       "      <td>220.249259</td>\n",
       "      <td>c477cca0-0</td>\n",
       "    </tr>\n",
       "    <tr>\n",
       "      <th>2</th>\n",
       "      <td>RBMCat</td>\n",
       "      <td>asia</td>\n",
       "      <td>single-table</td>\n",
       "      <td>0</td>\n",
       "      <td>DiscreteKLDivergence</td>\n",
       "      <td>None</td>\n",
       "      <td>1.000000</td>\n",
       "      <td>0.464554</td>\n",
       "      <td>220.249259</td>\n",
       "      <td>c477cca0-0</td>\n",
       "    </tr>\n",
       "  </tbody>\n",
       "</table>\n",
       "</div>"
      ],
      "text/plain": [
       "   synthesizer dataset      modality  iteration                metric error  \\\n",
       "0     Identity    asia  single-table          0                CSTest  None   \n",
       "1     Identity    asia  single-table          0       BNLogLikelihood  None   \n",
       "2     Identity    asia  single-table          0  DiscreteKLDivergence  None   \n",
       "0  Independent    asia  single-table          0                CSTest  None   \n",
       "1  Independent    asia  single-table          0       BNLogLikelihood  None   \n",
       "2  Independent    asia  single-table          0  DiscreteKLDivergence  None   \n",
       "0       RBMCat    asia  single-table          0                CSTest  None   \n",
       "1       RBMCat    asia  single-table          0       BNLogLikelihood  None   \n",
       "2       RBMCat    asia  single-table          0  DiscreteKLDivergence  None   \n",
       "\n",
       "      score  metric_time  model_time      run_id  \n",
       "0  1.000000     0.015942    0.000232  c477cca0-0  \n",
       "1 -2.236680     2.501837    0.000232  c477cca0-0  \n",
       "2  1.000000     0.466889    0.000232  c477cca0-0  \n",
       "0  0.994398     0.015621    0.023298  c477cca0-0  \n",
       "1 -4.939449     2.503420    0.023298  c477cca0-0  \n",
       "2  0.944769     0.468628    0.023298  c477cca0-0  \n",
       "0  1.000000     0.015214  220.249259  c477cca0-0  \n",
       "1 -3.492443     2.500742  220.249259  c477cca0-0  \n",
       "2  1.000000     0.464554  220.249259  c477cca0-0  "
      ]
     },
     "execution_count": 24,
     "metadata": {},
     "output_type": "execute_result"
    }
   ],
   "source": [
    "metrics = ['CSTest', 'BNLogLikelihood', 'DiscreteKLDivergence']\n",
    "synthesizers = [Identity, Independent, RBMCat.RBMCat]\n",
    "scores = sdgym.run(synthesizers=synthesizers, datasets=['asia'], metrics=metrics)\n",
    "scores"
   ]
  },
  {
   "cell_type": "code",
   "execution_count": 25,
   "metadata": {},
   "outputs": [
    {
     "name": "stderr",
     "output_type": "stream",
     "text": [
      "Metric BNLogLikelihood failed on dataset census. Skipping.\n",
      "Traceback (most recent call last):\n",
      "  File \"/home/yuchao/anaconda3/lib/python3.8/site-packages/sdgym/benchmark.py\", line 77, in _compute_scores\n",
      "    score = metric.compute(*metric_args)\n",
      "  File \"/home/yuchao/anaconda3/lib/python3.8/site-packages/sdmetrics/single_table/bayesian_network.py\", line 184, in compute\n",
      "    likelihoods = cls._likelihoods(real_data, synthetic_data, metadata, structure)\n",
      "  File \"/home/yuchao/anaconda3/lib/python3.8/site-packages/sdmetrics/single_table/bayesian_network.py\", line 55, in _likelihoods\n",
      "    bn = BayesianNetwork.from_samples(real_data[fields].to_numpy(), algorithm='chow-liu')\n",
      "  File \"pomegranate/BayesianNetwork.pyx\", line 1134, in pomegranate.BayesianNetwork.BayesianNetwork.from_samples\n",
      "ValueError: Chow-Liu tree learning does not current support missing values\n",
      "Metric BNLogLikelihood failed on dataset census. Skipping.\n",
      "Traceback (most recent call last):\n",
      "  File \"/home/yuchao/anaconda3/lib/python3.8/site-packages/sdgym/benchmark.py\", line 77, in _compute_scores\n",
      "    score = metric.compute(*metric_args)\n",
      "  File \"/home/yuchao/anaconda3/lib/python3.8/site-packages/sdmetrics/single_table/bayesian_network.py\", line 184, in compute\n",
      "    likelihoods = cls._likelihoods(real_data, synthetic_data, metadata, structure)\n",
      "  File \"/home/yuchao/anaconda3/lib/python3.8/site-packages/sdmetrics/single_table/bayesian_network.py\", line 55, in _likelihoods\n",
      "    bn = BayesianNetwork.from_samples(real_data[fields].to_numpy(), algorithm='chow-liu')\n",
      "  File \"pomegranate/BayesianNetwork.pyx\", line 1134, in pomegranate.BayesianNetwork.BayesianNetwork.from_samples\n",
      "ValueError: Chow-Liu tree learning does not current support missing values\n",
      "Error running RBMCat on dataset census; iteration 0\n",
      "Traceback (most recent call last):\n",
      "  File \"/home/yuchao/anaconda3/lib/python3.8/site-packages/sdgym/benchmark.py\", line 106, in _score\n",
      "    synthetic_data, model_time = _synthesize(synthesizer, real_data.copy(), metadata)\n",
      "  File \"/home/yuchao/anaconda3/lib/python3.8/site-packages/sdgym/benchmark.py\", line 41, in _synthesize\n",
      "    synthetic_data = synthesizer(real_data.copy(), metadata)\n",
      "  File \"/home/BigDATA/yuchao-codebase/RBMCat/RBMCat.py\", line 214, in RBMCat\n",
      "    X_cat_onehot = enc.fit_transform(X_cat)\n",
      "  File \"/home/yuchao/anaconda3/lib/python3.8/site-packages/sklearn/preprocessing/_encoders.py\", line 410, in fit_transform\n",
      "    return super().fit_transform(X, y)\n",
      "  File \"/home/yuchao/anaconda3/lib/python3.8/site-packages/sklearn/base.py\", line 690, in fit_transform\n",
      "    return self.fit(X, **fit_params).transform(X)\n",
      "  File \"/home/yuchao/anaconda3/lib/python3.8/site-packages/sklearn/preprocessing/_encoders.py\", line 385, in fit\n",
      "    self._fit(X, handle_unknown=self.handle_unknown)\n",
      "  File \"/home/yuchao/anaconda3/lib/python3.8/site-packages/sklearn/preprocessing/_encoders.py\", line 74, in _fit\n",
      "    X_list, n_samples, n_features = self._check_X(X)\n",
      "  File \"/home/yuchao/anaconda3/lib/python3.8/site-packages/sklearn/preprocessing/_encoders.py\", line 43, in _check_X\n",
      "    X_temp = check_array(X, dtype=None)\n",
      "  File \"/home/yuchao/anaconda3/lib/python3.8/site-packages/sklearn/utils/validation.py\", line 72, in inner_f\n",
      "    return f(**kwargs)\n",
      "  File \"/home/yuchao/anaconda3/lib/python3.8/site-packages/sklearn/utils/validation.py\", line 644, in check_array\n",
      "    _assert_all_finite(array,\n",
      "  File \"/home/yuchao/anaconda3/lib/python3.8/site-packages/sklearn/utils/validation.py\", line 104, in _assert_all_finite\n",
      "    raise ValueError(\"Input contains NaN\")\n",
      "ValueError: Input contains NaN\n"
     ]
    },
    {
     "data": {
      "text/html": [
       "<div>\n",
       "<style scoped>\n",
       "    .dataframe tbody tr th:only-of-type {\n",
       "        vertical-align: middle;\n",
       "    }\n",
       "\n",
       "    .dataframe tbody tr th {\n",
       "        vertical-align: top;\n",
       "    }\n",
       "\n",
       "    .dataframe thead th {\n",
       "        text-align: right;\n",
       "    }\n",
       "</style>\n",
       "<table border=\"1\" class=\"dataframe\">\n",
       "  <thead>\n",
       "    <tr style=\"text-align: right;\">\n",
       "      <th></th>\n",
       "      <th>synthesizer</th>\n",
       "      <th>dataset</th>\n",
       "      <th>modality</th>\n",
       "      <th>iteration</th>\n",
       "      <th>metric</th>\n",
       "      <th>error</th>\n",
       "      <th>score</th>\n",
       "      <th>metric_time</th>\n",
       "      <th>model_time</th>\n",
       "      <th>run_id</th>\n",
       "    </tr>\n",
       "  </thead>\n",
       "  <tbody>\n",
       "    <tr>\n",
       "      <th>0</th>\n",
       "      <td>Identity</td>\n",
       "      <td>census</td>\n",
       "      <td>single-table</td>\n",
       "      <td>0</td>\n",
       "      <td>CSTest</td>\n",
       "      <td>None</td>\n",
       "      <td>1</td>\n",
       "      <td>0.955695</td>\n",
       "      <td>0.043939</td>\n",
       "      <td>ad0a62cf-d</td>\n",
       "    </tr>\n",
       "    <tr>\n",
       "      <th>1</th>\n",
       "      <td>Identity</td>\n",
       "      <td>census</td>\n",
       "      <td>single-table</td>\n",
       "      <td>0</td>\n",
       "      <td>BNLogLikelihood</td>\n",
       "      <td>ValueError: Chow-Liu tree learning does not cu...</td>\n",
       "      <td>NaN</td>\n",
       "      <td>3.000919</td>\n",
       "      <td>0.043939</td>\n",
       "      <td>ad0a62cf-d</td>\n",
       "    </tr>\n",
       "    <tr>\n",
       "      <th>2</th>\n",
       "      <td>Identity</td>\n",
       "      <td>census</td>\n",
       "      <td>single-table</td>\n",
       "      <td>0</td>\n",
       "      <td>DiscreteKLDivergence</td>\n",
       "      <td>None</td>\n",
       "      <td>1</td>\n",
       "      <td>103.111152</td>\n",
       "      <td>0.043939</td>\n",
       "      <td>ad0a62cf-d</td>\n",
       "    </tr>\n",
       "    <tr>\n",
       "      <th>0</th>\n",
       "      <td>Independent</td>\n",
       "      <td>census</td>\n",
       "      <td>single-table</td>\n",
       "      <td>0</td>\n",
       "      <td>CSTest</td>\n",
       "      <td>None</td>\n",
       "      <td>0.99994</td>\n",
       "      <td>0.965766</td>\n",
       "      <td>8.64878</td>\n",
       "      <td>ad0a62cf-d</td>\n",
       "    </tr>\n",
       "    <tr>\n",
       "      <th>1</th>\n",
       "      <td>Independent</td>\n",
       "      <td>census</td>\n",
       "      <td>single-table</td>\n",
       "      <td>0</td>\n",
       "      <td>BNLogLikelihood</td>\n",
       "      <td>ValueError: Chow-Liu tree learning does not cu...</td>\n",
       "      <td>NaN</td>\n",
       "      <td>2.985164</td>\n",
       "      <td>8.64878</td>\n",
       "      <td>ad0a62cf-d</td>\n",
       "    </tr>\n",
       "    <tr>\n",
       "      <th>2</th>\n",
       "      <td>Independent</td>\n",
       "      <td>census</td>\n",
       "      <td>single-table</td>\n",
       "      <td>0</td>\n",
       "      <td>DiscreteKLDivergence</td>\n",
       "      <td>None</td>\n",
       "      <td>0.851062</td>\n",
       "      <td>103.156726</td>\n",
       "      <td>8.64878</td>\n",
       "      <td>ad0a62cf-d</td>\n",
       "    </tr>\n",
       "    <tr>\n",
       "      <th>0</th>\n",
       "      <td>RBMCat</td>\n",
       "      <td>census</td>\n",
       "      <td>single-table</td>\n",
       "      <td>0</td>\n",
       "      <td>NaN</td>\n",
       "      <td>ValueError: Input contains NaN</td>\n",
       "      <td>None</td>\n",
       "      <td>NaN</td>\n",
       "      <td>None</td>\n",
       "      <td>ad0a62cf-d</td>\n",
       "    </tr>\n",
       "  </tbody>\n",
       "</table>\n",
       "</div>"
      ],
      "text/plain": [
       "   synthesizer dataset      modality  iteration                metric  \\\n",
       "0     Identity  census  single-table          0                CSTest   \n",
       "1     Identity  census  single-table          0       BNLogLikelihood   \n",
       "2     Identity  census  single-table          0  DiscreteKLDivergence   \n",
       "0  Independent  census  single-table          0                CSTest   \n",
       "1  Independent  census  single-table          0       BNLogLikelihood   \n",
       "2  Independent  census  single-table          0  DiscreteKLDivergence   \n",
       "0       RBMCat  census  single-table          0                   NaN   \n",
       "\n",
       "                                               error     score  metric_time  \\\n",
       "0                                               None         1     0.955695   \n",
       "1  ValueError: Chow-Liu tree learning does not cu...       NaN     3.000919   \n",
       "2                                               None         1   103.111152   \n",
       "0                                               None   0.99994     0.965766   \n",
       "1  ValueError: Chow-Liu tree learning does not cu...       NaN     2.985164   \n",
       "2                                               None  0.851062   103.156726   \n",
       "0                     ValueError: Input contains NaN      None          NaN   \n",
       "\n",
       "  model_time      run_id  \n",
       "0   0.043939  ad0a62cf-d  \n",
       "1   0.043939  ad0a62cf-d  \n",
       "2   0.043939  ad0a62cf-d  \n",
       "0    8.64878  ad0a62cf-d  \n",
       "1    8.64878  ad0a62cf-d  \n",
       "2    8.64878  ad0a62cf-d  \n",
       "0       None  ad0a62cf-d  "
      ]
     },
     "execution_count": 25,
     "metadata": {},
     "output_type": "execute_result"
    }
   ],
   "source": [
    "metrics = ['CSTest', 'BNLogLikelihood', 'DiscreteKLDivergence']\n",
    "synthesizers = [Identity, Independent, RBMCat.RBMCat]\n",
    "scores = sdgym.run(synthesizers=synthesizers, datasets=['census'], metrics=metrics)\n",
    "scores"
   ]
  },
  {
   "cell_type": "code",
   "execution_count": null,
   "metadata": {},
   "outputs": [],
   "source": []
  }
 ],
 "metadata": {
  "kernelspec": {
   "display_name": "Python 3",
   "language": "python",
   "name": "python3"
  },
  "language_info": {
   "codemirror_mode": {
    "name": "ipython",
    "version": 3
   },
   "file_extension": ".py",
   "mimetype": "text/x-python",
   "name": "python",
   "nbconvert_exporter": "python",
   "pygments_lexer": "ipython3",
   "version": "3.8.5"
  }
 },
 "nbformat": 4,
 "nbformat_minor": 4
}
