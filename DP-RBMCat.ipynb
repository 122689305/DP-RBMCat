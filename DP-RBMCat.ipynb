{
 "cells": [
  {
   "cell_type": "code",
   "execution_count": 9,
   "metadata": {},
   "outputs": [],
   "source": [
    "%load_ext autoreload\n",
    "%autoreload 2"
   ]
  },
  {
   "cell_type": "code",
   "execution_count": 10,
   "metadata": {},
   "outputs": [],
   "source": [
    "import DPRBMCat\n",
    "import numpy as np\n",
    "import warnings\n",
    "\n",
    "warnings.filterwarnings('ignore')"
   ]
  },
  {
   "cell_type": "code",
   "execution_count": 21,
   "metadata": {},
   "outputs": [
    {
     "name": "stderr",
     "output_type": "stream",
     "text": [
      " 40%|████      | 4/10 [00:00<00:00, 17.88it/s]"
     ]
    },
    {
     "name": "stdout",
     "output_type": "stream",
     "text": [
      "DP-SGD with sampling rate = 16.7% and noise_multiplier = 1.0 iterated over 6 steps satisfies differential privacy with eps = 1.72 and delta = 0.1.\n",
      "The optimal RDP order is 3.0.\n",
      "anticipated epsilon for epoch 0 is 1.7174062081961892 with rdp order 3.0.\n",
      "2.1763199522135803\n",
      "3.042062020562554\n",
      "3.0403139658950598\n",
      "3.018415308762605\n",
      "3.702645121503316\n",
      "2.1653972585705588\n",
      "Epoch 0, epsilon 1.7174062081961892, error 2.0\n",
      "DP-SGD with sampling rate = 16.7% and noise_multiplier = 1.0 iterated over 12 steps satisfies differential privacy with eps = 2.28 and delta = 0.1.\n",
      "The optimal RDP order is 3.0.\n",
      "anticipated epsilon for epoch 1 is 2.283519869895356 with rdp order 3.0.\n",
      "2.1683570095638545\n",
      "3.05914028275995\n",
      "3.6671711285976913\n",
      "3.023612338556564\n",
      "2.112703378070948\n",
      "2.168240000009984\n",
      "Epoch 1, epsilon 2.283519869895356, error 2.0\n",
      "DP-SGD with sampling rate = 16.7% and noise_multiplier = 1.0 iterated over 18 steps satisfies differential privacy with eps = 2.74 and delta = 0.1.\n",
      "The optimal RDP order is 2.5.\n",
      "anticipated epsilon for epoch 2 is 2.736801705740654 with rdp order 2.5.\n",
      "2.1713029011473273\n",
      "2.184673057733272\n",
      "2.0960010535935525\n",
      "3.0102875517354395\n",
      "3.0221861232838503\n",
      "0.0\n",
      "Epoch 2, epsilon 2.736801705740654, error 0.0\n",
      "DP-SGD with sampling rate = 16.7% and noise_multiplier = 1.0 iterated over 24 steps satisfies differential privacy with eps = 3.14 and delta = 0.1.\n",
      "The optimal RDP order is 2.5.\n",
      "anticipated epsilon for epoch 3 is 3.13738336476664 with rdp order 2.5.\n",
      "2.1724499257959535\n",
      "3.111355403276144\n",
      "2.2230174221051273\n",
      "3.1208519415894065\n",
      "2.134736096670854\n",
      "2.9671437901426985\n",
      "Epoch 3, epsilon 3.13738336476664, error 4.0\n"
     ]
    },
    {
     "name": "stderr",
     "output_type": "stream",
     "text": [
      " 80%|████████  | 8/10 [00:00<00:00, 17.95it/s]"
     ]
    },
    {
     "name": "stdout",
     "output_type": "stream",
     "text": [
      "DP-SGD with sampling rate = 16.7% and noise_multiplier = 1.0 iterated over 30 steps satisfies differential privacy with eps = 3.52 and delta = 0.1.\n",
      "The optimal RDP order is 2.25.\n",
      "anticipated epsilon for epoch 4 is 3.521320390997385 with rdp order 2.25.\n",
      "3.1221997065132103\n",
      "3.7747676830501153\n",
      "3.693340428221437\n",
      "3.0866493712699\n",
      "2.98048512355251\n",
      "3.0475298476069423\n",
      "Epoch 4, epsilon 3.521320390997385, error 4.0\n",
      "DP-SGD with sampling rate = 16.7% and noise_multiplier = 1.0 iterated over 36 steps satisfies differential privacy with eps = 3.86 and delta = 0.1.\n",
      "The optimal RDP order is 2.25.\n",
      "anticipated epsilon for epoch 5 is 3.857170854317815 with rdp order 2.25.\n",
      "3.147652945009211\n",
      "3.1049261332944096\n",
      "2.154705070091748\n",
      "3.098810796994384\n",
      "0.0\n",
      "3.7177135508054784\n",
      "Epoch 5, epsilon 3.857170854317815, error 6.0\n",
      "DP-SGD with sampling rate = 16.7% and noise_multiplier = 1.0 iterated over 42 steps satisfies differential privacy with eps = 4.19 and delta = 0.1.\n",
      "The optimal RDP order is 2.25.\n",
      "anticipated epsilon for epoch 6 is 4.1930213176382445 with rdp order 2.25.\n",
      "3.178846135874597\n",
      "2.2857906874006897\n",
      "3.08900013007346\n",
      "3.184438494969675\n",
      "3.1298761924655203\n",
      "2.209475195644818\n",
      "Epoch 6, epsilon 4.1930213176382445, error 2.0\n",
      "DP-SGD with sampling rate = 16.7% and noise_multiplier = 1.0 iterated over 48 steps satisfies differential privacy with eps = 4.53 and delta = 0.1.\n",
      "The optimal RDP order is 2.25.\n",
      "anticipated epsilon for epoch 7 is 4.528871780958674 with rdp order 2.25.\n",
      "0.0\n",
      "3.1285581565218736\n",
      "2.310831546468546\n",
      "0.0\n",
      "3.2026676999955006\n",
      "0.0\n",
      "Epoch 7, epsilon 4.528871780958674, error 0.0\n"
     ]
    },
    {
     "name": "stderr",
     "output_type": "stream",
     "text": [
      "100%|██████████| 10/10 [00:00<00:00, 17.93it/s]"
     ]
    },
    {
     "name": "stdout",
     "output_type": "stream",
     "text": [
      "DP-SGD with sampling rate = 16.7% and noise_multiplier = 1.0 iterated over 54 steps satisfies differential privacy with eps = 4.82 and delta = 0.1.\n",
      "The optimal RDP order is 2.0.\n",
      "anticipated epsilon for epoch 8 is 4.8203873431004745 with rdp order 2.0.\n",
      "3.1951106421772826\n",
      "2.3205777452000884\n",
      "3.114760434829204\n",
      "0.0\n",
      "3.227359794570108\n",
      "0.0\n",
      "Epoch 8, epsilon 4.8203873431004745, error 0.0\n",
      "DP-SGD with sampling rate = 16.7% and noise_multiplier = 1.0 iterated over 60 steps satisfies differential privacy with eps = 5.1 and delta = 0.1.\n",
      "The optimal RDP order is 2.0.\n",
      "anticipated epsilon for epoch 9 is 5.100143148667856 with rdp order 2.0.\n",
      "3.1840327890180213\n",
      "2.2726740611179403\n",
      "3.113343307833718\n",
      "3.1863926692461058\n",
      "3.153480747034516\n",
      "3.064198026507435\n",
      "Epoch 9, epsilon 5.100143148667856, error 4.0\n"
     ]
    },
    {
     "name": "stderr",
     "output_type": "stream",
     "text": [
      "\n"
     ]
    }
   ],
   "source": [
    "X = [\n",
    "    [0, 0, 1, 1, 0, 0, 0, 1],\n",
    "    [0, 0, 1, 1, 0, 0, 0, 1],\n",
    "    [0, 0, 1, 0, 1, 0, 0, 1],\n",
    "    [0, 0, 1, 0, 1, 0, 0, 1],\n",
    "    [0, 0, 1, 0, 0, 1, 0, 1],\n",
    "    [0, 0, 1, 0, 0, 1, 0, 1],\n",
    "]\n",
    "X = np.array(X)\n",
    "cat = [(0, 3), (3, 6), (6, 8)]\n",
    "target_epsilon = 10\n",
    "target_delta = 0.1\n",
    "W, b_v, b_h, loss_df = DPRBMCat.RBM_train_dp(X, cat, target_epsilon, target_delta, max_iters=10, batch_size=1)"
   ]
  },
  {
   "cell_type": "code",
   "execution_count": 12,
   "metadata": {},
   "outputs": [
    {
     "data": {
      "text/plain": [
       "(array([[0., 0., 1., 0., 0., 1., 0., 1.],\n",
       "        [0., 0., 1., 0., 0., 1., 1., 0.],\n",
       "        [0., 0., 1., 0., 1., 0., 0., 1.],\n",
       "        [0., 0., 1., 0., 1., 0., 1., 0.],\n",
       "        [0., 0., 1., 1., 0., 0., 0., 1.],\n",
       "        [0., 0., 1., 1., 0., 0., 1., 0.],\n",
       "        [0., 1., 0., 0., 0., 1., 0., 1.],\n",
       "        [0., 1., 0., 0., 0., 1., 1., 0.],\n",
       "        [0., 1., 0., 0., 1., 0., 0., 1.],\n",
       "        [0., 1., 0., 0., 1., 0., 1., 0.],\n",
       "        [0., 1., 0., 1., 0., 0., 0., 1.],\n",
       "        [0., 1., 0., 1., 0., 0., 1., 0.],\n",
       "        [1., 0., 0., 0., 0., 1., 0., 1.],\n",
       "        [1., 0., 0., 0., 0., 1., 1., 0.],\n",
       "        [1., 0., 0., 0., 1., 0., 0., 1.],\n",
       "        [1., 0., 0., 0., 1., 0., 1., 0.],\n",
       "        [1., 0., 0., 1., 0., 0., 0., 1.],\n",
       "        [1., 0., 0., 1., 0., 0., 1., 0.]]),\n",
       " array([105,  43, 118,  63, 122,  46,  57,  38,  70,  45,  70,  39,  28,\n",
       "         20,  43,  29,  42,  22]))"
      ]
     },
     "execution_count": 12,
     "metadata": {},
     "output_type": "execute_result"
    }
   ],
   "source": [
    "n_samples = 1000\n",
    "sample = DPRBMCat.RBM_sample(n_samples, W, b_v, b_h, cat)\n",
    "np.unique(sample, axis=0, return_counts=True)"
   ]
  },
  {
   "cell_type": "code",
   "execution_count": 19,
   "metadata": {},
   "outputs": [
    {
     "name": "stderr",
     "output_type": "stream",
     "text": [
      "\n",
      "  0%|          | 0/20 [00:00<?, ?it/s]\u001b[A"
     ]
    },
    {
     "name": "stdout",
     "output_type": "stream",
     "text": [
      "DP-SGD with sampling rate = 0.32% and noise_multiplier = 1.5 iterated over 313 steps satisfies differential privacy with eps = 0.696 and delta = 1e-07.\n",
      "The optimal RDP order is 25.0.\n",
      "anticipated epsilon for epoch 0 is 0.6957289285745607 with rdp order 25.0.\n"
     ]
    },
    {
     "name": "stderr",
     "output_type": "stream",
     "text": [
      "\n",
      "  5%|▌         | 1/20 [00:10<03:19, 10.49s/it]\u001b[A"
     ]
    },
    {
     "name": "stdout",
     "output_type": "stream",
     "text": [
      "Epoch 0, epsilon 0.6957289285745607, error 4.625\n",
      "DP-SGD with sampling rate = 0.32% and noise_multiplier = 1.5 iterated over 625 steps satisfies differential privacy with eps = 0.72 and delta = 1e-07.\n",
      "The optimal RDP order is 25.0.\n",
      "anticipated epsilon for epoch 1 is 0.7197934086154705 with rdp order 25.0.\n"
     ]
    },
    {
     "name": "stderr",
     "output_type": "stream",
     "text": [
      "\n",
      " 10%|█         | 2/20 [00:20<03:08, 10.48s/it]\u001b[A"
     ]
    },
    {
     "name": "stdout",
     "output_type": "stream",
     "text": [
      "Epoch 1, epsilon 0.7197934086154705, error 4.28125\n",
      "DP-SGD with sampling rate = 0.32% and noise_multiplier = 1.5 iterated over 938 steps satisfies differential privacy with eps = 0.744 and delta = 1e-07.\n",
      "The optimal RDP order is 25.0.\n",
      "anticipated epsilon for epoch 2 is 0.7439350184001011 with rdp order 25.0.\n"
     ]
    },
    {
     "name": "stderr",
     "output_type": "stream",
     "text": [
      "\n",
      " 15%|█▌        | 3/20 [00:31<02:57, 10.47s/it]\u001b[A"
     ]
    },
    {
     "name": "stdout",
     "output_type": "stream",
     "text": [
      "Epoch 2, epsilon 0.7439350184001011, error 4.125\n",
      "DP-SGD with sampling rate = 0.32% and noise_multiplier = 1.5 iterated over 1250 steps satisfies differential privacy with eps = 0.768 and delta = 1e-07.\n",
      "The optimal RDP order is 25.0.\n",
      "anticipated epsilon for epoch 3 is 0.7679994984410109 with rdp order 25.0.\n"
     ]
    },
    {
     "name": "stderr",
     "output_type": "stream",
     "text": [
      "\n",
      " 20%|██        | 4/20 [00:41<02:47, 10.47s/it]\u001b[A"
     ]
    },
    {
     "name": "stdout",
     "output_type": "stream",
     "text": [
      "Epoch 3, epsilon 0.7679994984410109, error 4.15625\n",
      "DP-SGD with sampling rate = 0.32% and noise_multiplier = 1.5 iterated over 1563 steps satisfies differential privacy with eps = 0.792 and delta = 1e-07.\n",
      "The optimal RDP order is 25.0.\n",
      "anticipated epsilon for epoch 4 is 0.7921411082256415 with rdp order 25.0.\n"
     ]
    },
    {
     "name": "stderr",
     "output_type": "stream",
     "text": [
      "\n",
      " 25%|██▌       | 5/20 [00:52<02:36, 10.46s/it]\u001b[A"
     ]
    },
    {
     "name": "stdout",
     "output_type": "stream",
     "text": [
      "Epoch 4, epsilon 0.7921411082256415, error 4.0625\n",
      "DP-SGD with sampling rate = 0.32% and noise_multiplier = 1.5 iterated over 1875 steps satisfies differential privacy with eps = 0.816 and delta = 1e-07.\n",
      "The optimal RDP order is 25.0.\n",
      "anticipated epsilon for epoch 5 is 0.8162055882665513 with rdp order 25.0.\n"
     ]
    },
    {
     "name": "stderr",
     "output_type": "stream",
     "text": [
      "\n",
      " 30%|███       | 6/20 [01:02<02:26, 10.48s/it]\u001b[A"
     ]
    },
    {
     "name": "stdout",
     "output_type": "stream",
     "text": [
      "Epoch 5, epsilon 0.8162055882665513, error 4.09375\n",
      "DP-SGD with sampling rate = 0.32% and noise_multiplier = 1.5 iterated over 2188 steps satisfies differential privacy with eps = 0.84 and delta = 1e-07.\n",
      "The optimal RDP order is 25.0.\n",
      "anticipated epsilon for epoch 6 is 0.840347198051182 with rdp order 25.0.\n"
     ]
    },
    {
     "name": "stderr",
     "output_type": "stream",
     "text": [
      "\n",
      " 35%|███▌      | 7/20 [01:13<02:16, 10.48s/it]\u001b[A"
     ]
    },
    {
     "name": "stdout",
     "output_type": "stream",
     "text": [
      "Epoch 6, epsilon 0.840347198051182, error 4.03125\n",
      "DP-SGD with sampling rate = 0.32% and noise_multiplier = 1.5 iterated over 2500 steps satisfies differential privacy with eps = 0.864 and delta = 1e-07.\n",
      "The optimal RDP order is 25.0.\n",
      "anticipated epsilon for epoch 7 is 0.8644116780920917 with rdp order 25.0.\n"
     ]
    },
    {
     "name": "stderr",
     "output_type": "stream",
     "text": [
      "\n",
      " 40%|████      | 8/20 [01:23<02:05, 10.48s/it]\u001b[A"
     ]
    },
    {
     "name": "stdout",
     "output_type": "stream",
     "text": [
      "Epoch 7, epsilon 0.8644116780920917, error 4.0625\n",
      "DP-SGD with sampling rate = 0.32% and noise_multiplier = 1.5 iterated over 2813 steps satisfies differential privacy with eps = 0.889 and delta = 1e-07.\n",
      "The optimal RDP order is 25.0.\n",
      "anticipated epsilon for epoch 8 is 0.8885532878767224 with rdp order 25.0.\n"
     ]
    },
    {
     "name": "stderr",
     "output_type": "stream",
     "text": [
      "\n",
      " 45%|████▌     | 9/20 [01:34<01:55, 10.50s/it]\u001b[A"
     ]
    },
    {
     "name": "stdout",
     "output_type": "stream",
     "text": [
      "Epoch 8, epsilon 0.8885532878767224, error 4.375\n",
      "DP-SGD with sampling rate = 0.32% and noise_multiplier = 1.5 iterated over 3125 steps satisfies differential privacy with eps = 0.913 and delta = 1e-07.\n",
      "The optimal RDP order is 25.0.\n",
      "anticipated epsilon for epoch 9 is 0.9126177679176322 with rdp order 25.0.\n"
     ]
    },
    {
     "name": "stderr",
     "output_type": "stream",
     "text": [
      "\n",
      " 50%|█████     | 10/20 [01:44<01:44, 10.49s/it]\u001b[A"
     ]
    },
    {
     "name": "stdout",
     "output_type": "stream",
     "text": [
      "Epoch 9, epsilon 0.9126177679176322, error 4.8125\n",
      "DP-SGD with sampling rate = 0.32% and noise_multiplier = 1.5 iterated over 3438 steps satisfies differential privacy with eps = 0.937 and delta = 1e-07.\n",
      "The optimal RDP order is 25.0.\n",
      "anticipated epsilon for epoch 10 is 0.9367593777022627 with rdp order 25.0.\n"
     ]
    },
    {
     "name": "stderr",
     "output_type": "stream",
     "text": [
      "\n",
      " 55%|█████▌    | 11/20 [01:55<01:34, 10.49s/it]\u001b[A"
     ]
    },
    {
     "name": "stdout",
     "output_type": "stream",
     "text": [
      "Epoch 10, epsilon 0.9367593777022627, error 4.0625\n",
      "DP-SGD with sampling rate = 0.32% and noise_multiplier = 1.5 iterated over 3750 steps satisfies differential privacy with eps = 0.961 and delta = 1e-07.\n",
      "The optimal RDP order is 25.0.\n",
      "anticipated epsilon for epoch 11 is 0.9608238577431725 with rdp order 25.0.\n"
     ]
    },
    {
     "name": "stderr",
     "output_type": "stream",
     "text": [
      "\n",
      " 60%|██████    | 12/20 [02:05<01:23, 10.48s/it]\u001b[A"
     ]
    },
    {
     "name": "stdout",
     "output_type": "stream",
     "text": [
      "Epoch 11, epsilon 0.9608238577431725, error 4.625\n",
      "DP-SGD with sampling rate = 0.32% and noise_multiplier = 1.5 iterated over 4063 steps satisfies differential privacy with eps = 0.985 and delta = 1e-07.\n",
      "The optimal RDP order is 25.0.\n",
      "anticipated epsilon for epoch 12 is 0.9849654675278032 with rdp order 25.0.\n"
     ]
    },
    {
     "name": "stderr",
     "output_type": "stream",
     "text": [
      "\n",
      " 65%|██████▌   | 13/20 [02:16<01:13, 10.48s/it]\u001b[A"
     ]
    },
    {
     "name": "stdout",
     "output_type": "stream",
     "text": [
      "Epoch 12, epsilon 0.9849654675278032, error 4.59375\n",
      "DP-SGD with sampling rate = 0.32% and noise_multiplier = 1.5 iterated over 4375 steps satisfies differential privacy with eps = 1.01 and delta = 1e-07.\n",
      "The optimal RDP order is 25.0.\n",
      "anticipated epsilon for epoch 13 is 1.009029947568713 with rdp order 25.0.\n"
     ]
    },
    {
     "name": "stderr",
     "output_type": "stream",
     "text": [
      "\n"
     ]
    },
    {
     "name": "stdout",
     "output_type": "stream",
     "text": [
      "[['no' 'yes' 'yes' ... 'yes' 'yes' 'no']\n",
      " ['yes' 'yes' 'no' ... 'yes' 'no' 'no']\n",
      " ['no' 'yes' 'yes' ... 'yes' 'no' 'yes']\n",
      " ...\n",
      " ['yes' 'yes' 'no' ... 'yes' 'yes' 'no']\n",
      " ['no' 'no' 'yes' ... 'no' 'no' 'yes']\n",
      " ['yes' 'no' 'no' ... 'yes' 'yes' 'yes']]\n"
     ]
    }
   ],
   "source": [
    "import sdgym\n",
    "from sdgym.synthesizers import Identity, Independent\n",
    "\n",
    "metrics = ['CSTest', 'BNLogLikelihood', 'DiscreteKLDivergence']\n",
    "synthesizers = [Identity, Independent, DPRBMCat.RBMCat]\n",
    "scores = sdgym.run(synthesizers=synthesizers, datasets=['asia'], metrics=metrics)"
   ]
  },
  {
   "cell_type": "code",
   "execution_count": 20,
   "metadata": {},
   "outputs": [
    {
     "data": {
      "text/html": [
       "<div>\n",
       "<style scoped>\n",
       "    .dataframe tbody tr th:only-of-type {\n",
       "        vertical-align: middle;\n",
       "    }\n",
       "\n",
       "    .dataframe tbody tr th {\n",
       "        vertical-align: top;\n",
       "    }\n",
       "\n",
       "    .dataframe thead th {\n",
       "        text-align: right;\n",
       "    }\n",
       "</style>\n",
       "<table border=\"1\" class=\"dataframe\">\n",
       "  <thead>\n",
       "    <tr style=\"text-align: right;\">\n",
       "      <th></th>\n",
       "      <th>synthesizer</th>\n",
       "      <th>dataset</th>\n",
       "      <th>modality</th>\n",
       "      <th>iteration</th>\n",
       "      <th>metric</th>\n",
       "      <th>error</th>\n",
       "      <th>score</th>\n",
       "      <th>metric_time</th>\n",
       "      <th>model_time</th>\n",
       "      <th>run_id</th>\n",
       "    </tr>\n",
       "  </thead>\n",
       "  <tbody>\n",
       "    <tr>\n",
       "      <th>0</th>\n",
       "      <td>Identity</td>\n",
       "      <td>asia</td>\n",
       "      <td>single-table</td>\n",
       "      <td>0</td>\n",
       "      <td>CSTest</td>\n",
       "      <td>None</td>\n",
       "      <td>1.000000</td>\n",
       "      <td>0.014849</td>\n",
       "      <td>0.000223</td>\n",
       "      <td>11b9b65a-4</td>\n",
       "    </tr>\n",
       "    <tr>\n",
       "      <th>1</th>\n",
       "      <td>Identity</td>\n",
       "      <td>asia</td>\n",
       "      <td>single-table</td>\n",
       "      <td>0</td>\n",
       "      <td>BNLogLikelihood</td>\n",
       "      <td>None</td>\n",
       "      <td>-2.236680</td>\n",
       "      <td>2.502260</td>\n",
       "      <td>0.000223</td>\n",
       "      <td>11b9b65a-4</td>\n",
       "    </tr>\n",
       "    <tr>\n",
       "      <th>2</th>\n",
       "      <td>Identity</td>\n",
       "      <td>asia</td>\n",
       "      <td>single-table</td>\n",
       "      <td>0</td>\n",
       "      <td>DiscreteKLDivergence</td>\n",
       "      <td>None</td>\n",
       "      <td>1.000000</td>\n",
       "      <td>0.469920</td>\n",
       "      <td>0.000223</td>\n",
       "      <td>11b9b65a-4</td>\n",
       "    </tr>\n",
       "    <tr>\n",
       "      <th>0</th>\n",
       "      <td>Independent</td>\n",
       "      <td>asia</td>\n",
       "      <td>single-table</td>\n",
       "      <td>0</td>\n",
       "      <td>CSTest</td>\n",
       "      <td>None</td>\n",
       "      <td>0.997344</td>\n",
       "      <td>0.015115</td>\n",
       "      <td>0.023722</td>\n",
       "      <td>11b9b65a-4</td>\n",
       "    </tr>\n",
       "    <tr>\n",
       "      <th>1</th>\n",
       "      <td>Independent</td>\n",
       "      <td>asia</td>\n",
       "      <td>single-table</td>\n",
       "      <td>0</td>\n",
       "      <td>BNLogLikelihood</td>\n",
       "      <td>None</td>\n",
       "      <td>-4.939621</td>\n",
       "      <td>2.504506</td>\n",
       "      <td>0.023722</td>\n",
       "      <td>11b9b65a-4</td>\n",
       "    </tr>\n",
       "    <tr>\n",
       "      <th>2</th>\n",
       "      <td>Independent</td>\n",
       "      <td>asia</td>\n",
       "      <td>single-table</td>\n",
       "      <td>0</td>\n",
       "      <td>DiscreteKLDivergence</td>\n",
       "      <td>None</td>\n",
       "      <td>0.945635</td>\n",
       "      <td>0.467470</td>\n",
       "      <td>0.023722</td>\n",
       "      <td>11b9b65a-4</td>\n",
       "    </tr>\n",
       "    <tr>\n",
       "      <th>0</th>\n",
       "      <td>RBMCat</td>\n",
       "      <td>asia</td>\n",
       "      <td>single-table</td>\n",
       "      <td>0</td>\n",
       "      <td>CSTest</td>\n",
       "      <td>None</td>\n",
       "      <td>0.391578</td>\n",
       "      <td>0.015485</td>\n",
       "      <td>147.203744</td>\n",
       "      <td>11b9b65a-4</td>\n",
       "    </tr>\n",
       "    <tr>\n",
       "      <th>1</th>\n",
       "      <td>RBMCat</td>\n",
       "      <td>asia</td>\n",
       "      <td>single-table</td>\n",
       "      <td>0</td>\n",
       "      <td>BNLogLikelihood</td>\n",
       "      <td>None</td>\n",
       "      <td>-14.382246</td>\n",
       "      <td>2.492126</td>\n",
       "      <td>147.203744</td>\n",
       "      <td>11b9b65a-4</td>\n",
       "    </tr>\n",
       "    <tr>\n",
       "      <th>2</th>\n",
       "      <td>RBMCat</td>\n",
       "      <td>asia</td>\n",
       "      <td>single-table</td>\n",
       "      <td>0</td>\n",
       "      <td>DiscreteKLDivergence</td>\n",
       "      <td>None</td>\n",
       "      <td>0.430083</td>\n",
       "      <td>0.469875</td>\n",
       "      <td>147.203744</td>\n",
       "      <td>11b9b65a-4</td>\n",
       "    </tr>\n",
       "  </tbody>\n",
       "</table>\n",
       "</div>"
      ],
      "text/plain": [
       "   synthesizer dataset      modality  iteration                metric error  \\\n",
       "0     Identity    asia  single-table          0                CSTest  None   \n",
       "1     Identity    asia  single-table          0       BNLogLikelihood  None   \n",
       "2     Identity    asia  single-table          0  DiscreteKLDivergence  None   \n",
       "0  Independent    asia  single-table          0                CSTest  None   \n",
       "1  Independent    asia  single-table          0       BNLogLikelihood  None   \n",
       "2  Independent    asia  single-table          0  DiscreteKLDivergence  None   \n",
       "0       RBMCat    asia  single-table          0                CSTest  None   \n",
       "1       RBMCat    asia  single-table          0       BNLogLikelihood  None   \n",
       "2       RBMCat    asia  single-table          0  DiscreteKLDivergence  None   \n",
       "\n",
       "       score  metric_time  model_time      run_id  \n",
       "0   1.000000     0.014849    0.000223  11b9b65a-4  \n",
       "1  -2.236680     2.502260    0.000223  11b9b65a-4  \n",
       "2   1.000000     0.469920    0.000223  11b9b65a-4  \n",
       "0   0.997344     0.015115    0.023722  11b9b65a-4  \n",
       "1  -4.939621     2.504506    0.023722  11b9b65a-4  \n",
       "2   0.945635     0.467470    0.023722  11b9b65a-4  \n",
       "0   0.391578     0.015485  147.203744  11b9b65a-4  \n",
       "1 -14.382246     2.492126  147.203744  11b9b65a-4  \n",
       "2   0.430083     0.469875  147.203744  11b9b65a-4  "
      ]
     },
     "execution_count": 20,
     "metadata": {},
     "output_type": "execute_result"
    }
   ],
   "source": [
    "scores"
   ]
  },
  {
   "cell_type": "code",
   "execution_count": 13,
   "metadata": {},
   "outputs": [
    {
     "name": "stderr",
     "output_type": "stream",
     "text": [
      "\n",
      "  0%|          | 0/20 [00:00<?, ?it/s]\u001b[A\n"
     ]
    },
    {
     "name": "stdout",
     "output_type": "stream",
     "text": [
      "DP-SGD with sampling rate = 0.197% and noise_multiplier = 1.0 iterated over 509 steps satisfies differential privacy with eps = 1.49 and delta = 1e-07.\n",
      "The optimal RDP order is 12.0.\n",
      "anticipated epsilon for epoch 0 is 1.4946998376926162 with rdp order 12.0.\n",
      "[['Without-pay' '10th' 'Married-AF-spouse' ... 'Female' 'Greece' '<=50K']\n",
      " ['Private' '9th' 'Divorced' ... 'Male' 'Philippines' '<=50K']\n",
      " ['?' 'Masters' 'Married-civ-spouse' ... 'Female' 'Philippines' '<=50K']\n",
      " ...\n",
      " ['Self-emp-inc' 'HS-grad' 'Never-married' ... 'Male' 'Guatemala' '>50K']\n",
      " ['Local-gov' '5th-6th' 'Widowed' ... 'Male' 'Puerto-Rico' '<=50K']\n",
      " ['?' 'Doctorate' 'Never-married' ... 'Male' 'El-Salvador' '<=50K']]\n"
     ]
    }
   ],
   "source": [
    "import sdgym\n",
    "from sdgym.synthesizers import Identity, Independent\n",
    "\n",
    "metrics = ['CSTest', 'BNLogLikelihood', 'DiscreteKLDivergence']\n",
    "synthesizers = [Identity, Independent, DPRBMCat.RBMCat]\n",
    "scores = sdgym.run(synthesizers=synthesizers, datasets=['adult'], metrics=metrics, cache_dir='sdgym_cache')"
   ]
  },
  {
   "cell_type": "code",
   "execution_count": 14,
   "metadata": {},
   "outputs": [
    {
     "data": {
      "text/html": [
       "<div>\n",
       "<style scoped>\n",
       "    .dataframe tbody tr th:only-of-type {\n",
       "        vertical-align: middle;\n",
       "    }\n",
       "\n",
       "    .dataframe tbody tr th {\n",
       "        vertical-align: top;\n",
       "    }\n",
       "\n",
       "    .dataframe thead th {\n",
       "        text-align: right;\n",
       "    }\n",
       "</style>\n",
       "<table border=\"1\" class=\"dataframe\">\n",
       "  <thead>\n",
       "    <tr style=\"text-align: right;\">\n",
       "      <th></th>\n",
       "      <th>synthesizer</th>\n",
       "      <th>dataset</th>\n",
       "      <th>modality</th>\n",
       "      <th>iteration</th>\n",
       "      <th>metric</th>\n",
       "      <th>error</th>\n",
       "      <th>score</th>\n",
       "      <th>metric_time</th>\n",
       "      <th>model_time</th>\n",
       "      <th>run_id</th>\n",
       "    </tr>\n",
       "  </thead>\n",
       "  <tbody>\n",
       "    <tr>\n",
       "      <th>0</th>\n",
       "      <td>Identity</td>\n",
       "      <td>adult</td>\n",
       "      <td>single-table</td>\n",
       "      <td>0</td>\n",
       "      <td>CSTest</td>\n",
       "      <td>None</td>\n",
       "      <td>1.000000</td>\n",
       "      <td>0.026042</td>\n",
       "      <td>0.000499</td>\n",
       "      <td>513a9bac-f</td>\n",
       "    </tr>\n",
       "    <tr>\n",
       "      <th>1</th>\n",
       "      <td>Identity</td>\n",
       "      <td>adult</td>\n",
       "      <td>single-table</td>\n",
       "      <td>0</td>\n",
       "      <td>BNLogLikelihood</td>\n",
       "      <td>None</td>\n",
       "      <td>-8.855857</td>\n",
       "      <td>5.012578</td>\n",
       "      <td>0.000499</td>\n",
       "      <td>513a9bac-f</td>\n",
       "    </tr>\n",
       "    <tr>\n",
       "      <th>2</th>\n",
       "      <td>Identity</td>\n",
       "      <td>adult</td>\n",
       "      <td>single-table</td>\n",
       "      <td>0</td>\n",
       "      <td>DiscreteKLDivergence</td>\n",
       "      <td>None</td>\n",
       "      <td>1.000000</td>\n",
       "      <td>0.946495</td>\n",
       "      <td>0.000499</td>\n",
       "      <td>513a9bac-f</td>\n",
       "    </tr>\n",
       "    <tr>\n",
       "      <th>0</th>\n",
       "      <td>Independent</td>\n",
       "      <td>adult</td>\n",
       "      <td>single-table</td>\n",
       "      <td>0</td>\n",
       "      <td>CSTest</td>\n",
       "      <td>None</td>\n",
       "      <td>0.998883</td>\n",
       "      <td>0.026746</td>\n",
       "      <td>0.479006</td>\n",
       "      <td>513a9bac-f</td>\n",
       "    </tr>\n",
       "    <tr>\n",
       "      <th>1</th>\n",
       "      <td>Independent</td>\n",
       "      <td>adult</td>\n",
       "      <td>single-table</td>\n",
       "      <td>0</td>\n",
       "      <td>BNLogLikelihood</td>\n",
       "      <td>None</td>\n",
       "      <td>-15.016361</td>\n",
       "      <td>5.050000</td>\n",
       "      <td>0.479006</td>\n",
       "      <td>513a9bac-f</td>\n",
       "    </tr>\n",
       "    <tr>\n",
       "      <th>2</th>\n",
       "      <td>Independent</td>\n",
       "      <td>adult</td>\n",
       "      <td>single-table</td>\n",
       "      <td>0</td>\n",
       "      <td>DiscreteKLDivergence</td>\n",
       "      <td>None</td>\n",
       "      <td>0.889961</td>\n",
       "      <td>0.952266</td>\n",
       "      <td>0.479006</td>\n",
       "      <td>513a9bac-f</td>\n",
       "    </tr>\n",
       "    <tr>\n",
       "      <th>0</th>\n",
       "      <td>RBMCat</td>\n",
       "      <td>adult</td>\n",
       "      <td>single-table</td>\n",
       "      <td>0</td>\n",
       "      <td>CSTest</td>\n",
       "      <td>None</td>\n",
       "      <td>0.459657</td>\n",
       "      <td>0.027871</td>\n",
       "      <td>20.563562</td>\n",
       "      <td>513a9bac-f</td>\n",
       "    </tr>\n",
       "    <tr>\n",
       "      <th>1</th>\n",
       "      <td>RBMCat</td>\n",
       "      <td>adult</td>\n",
       "      <td>single-table</td>\n",
       "      <td>0</td>\n",
       "      <td>BNLogLikelihood</td>\n",
       "      <td>None</td>\n",
       "      <td>-19.429583</td>\n",
       "      <td>5.029802</td>\n",
       "      <td>20.563562</td>\n",
       "      <td>513a9bac-f</td>\n",
       "    </tr>\n",
       "    <tr>\n",
       "      <th>2</th>\n",
       "      <td>RBMCat</td>\n",
       "      <td>adult</td>\n",
       "      <td>single-table</td>\n",
       "      <td>0</td>\n",
       "      <td>DiscreteKLDivergence</td>\n",
       "      <td>None</td>\n",
       "      <td>0.311278</td>\n",
       "      <td>0.957700</td>\n",
       "      <td>20.563562</td>\n",
       "      <td>513a9bac-f</td>\n",
       "    </tr>\n",
       "  </tbody>\n",
       "</table>\n",
       "</div>"
      ],
      "text/plain": [
       "   synthesizer dataset      modality  iteration                metric error  \\\n",
       "0     Identity   adult  single-table          0                CSTest  None   \n",
       "1     Identity   adult  single-table          0       BNLogLikelihood  None   \n",
       "2     Identity   adult  single-table          0  DiscreteKLDivergence  None   \n",
       "0  Independent   adult  single-table          0                CSTest  None   \n",
       "1  Independent   adult  single-table          0       BNLogLikelihood  None   \n",
       "2  Independent   adult  single-table          0  DiscreteKLDivergence  None   \n",
       "0       RBMCat   adult  single-table          0                CSTest  None   \n",
       "1       RBMCat   adult  single-table          0       BNLogLikelihood  None   \n",
       "2       RBMCat   adult  single-table          0  DiscreteKLDivergence  None   \n",
       "\n",
       "       score  metric_time  model_time      run_id  \n",
       "0   1.000000     0.026042    0.000499  513a9bac-f  \n",
       "1  -8.855857     5.012578    0.000499  513a9bac-f  \n",
       "2   1.000000     0.946495    0.000499  513a9bac-f  \n",
       "0   0.998883     0.026746    0.479006  513a9bac-f  \n",
       "1 -15.016361     5.050000    0.479006  513a9bac-f  \n",
       "2   0.889961     0.952266    0.479006  513a9bac-f  \n",
       "0   0.459657     0.027871   20.563562  513a9bac-f  \n",
       "1 -19.429583     5.029802   20.563562  513a9bac-f  \n",
       "2   0.311278     0.957700   20.563562  513a9bac-f  "
      ]
     },
     "execution_count": 14,
     "metadata": {},
     "output_type": "execute_result"
    }
   ],
   "source": [
    "scores"
   ]
  },
  {
   "cell_type": "code",
   "execution_count": 32,
   "metadata": {},
   "outputs": [],
   "source": [
    "import pandas as pd\n",
    "import compress_pickle\n",
    "import seaborn as sns\n",
    "import matplotlib.pyplot as plt"
   ]
  },
  {
   "cell_type": "code",
   "execution_count": 35,
   "metadata": {},
   "outputs": [
    {
     "data": {
      "text/plain": [
       "<AxesSubplot:xlabel='workclass', ylabel='Count'>"
      ]
     },
     "execution_count": 35,
     "metadata": {},
     "output_type": "execute_result"
    },
    {
     "data": {
      "image/png": "[encoded data removed]",
      "text/plain": [
       "<Figure size 432x288 with 1 Axes>"
      ]
     },
     "metadata": {
      "needs_background": "light"
     },
     "output_type": "display_data"
    }
   ],
   "source": [
    "df = compress_pickle.load('sdgym_cache/Identity_adult_0_f488d2ab-0.data.gz')['adult']\n",
    "plt.xticks(rotation=45)\n",
    "sns.histplot(df['workclass'])"
   ]
  },
  {
   "cell_type": "code",
   "execution_count": 37,
   "metadata": {},
   "outputs": [
    {
     "data": {
      "text/plain": [
       "<AxesSubplot:xlabel='workclass', ylabel='Count'>"
      ]
     },
     "execution_count": 37,
     "metadata": {},
     "output_type": "execute_result"
    },
    {
     "data": {
      "image/png": "[encoded data removed]",
      "text/plain": [
       "<Figure size 432x288 with 1 Axes>"
      ]
     },
     "metadata": {
      "needs_background": "light"
     },
     "output_type": "display_data"
    }
   ],
   "source": [
    "df = compress_pickle.load('sdgym_cache/RBMCat_adult_0_f488d2ab-0.data.gz')['adult']\n",
    "plt.xticks(rotation=45)\n",
    "sns.histplot(df['workclass'])"
   ]
  },
  {
   "cell_type": "code",
   "execution_count": 40,
   "metadata": {},
   "outputs": [
    {
     "data": {
      "text/plain": [
       "<AxesSubplot:xlabel='workclass', ylabel='Count'>"
      ]
     },
     "execution_count": 40,
     "metadata": {},
     "output_type": "execute_result"
    },
    {
     "data": {
      "image/png": "[encoded data removed]",
      "text/plain": [
       "<Figure size 432x288 with 1 Axes>"
      ]
     },
     "metadata": {
      "needs_background": "light"
     },
     "output_type": "display_data"
    }
   ],
   "source": [
    "df = pd.read_csv('/home/yuchao/.local/share/SDGym/datasets/adult/adult.csv')\n",
    "plt.xticks(rotation=45)\n",
    "sns.histplot(df['workclass'])"
   ]
  },
  {
   "cell_type": "code",
   "execution_count": 42,
   "metadata": {},
   "outputs": [
    {
     "data": {
      "text/plain": [
       "4.800963054878173e-24"
      ]
     },
     "execution_count": 42,
     "metadata": {},
     "output_type": "execute_result"
    }
   ],
   "source": [
    "from sdmetrics.single_column.statistical.cstest import CSTest\n",
    "\n",
    "real_data = compress_pickle.load('sdgym_cache/Identity_adult_0_f488d2ab-0.data.gz')['adult']\n",
    "synthetic_data = compress_pickle.load('sdgym_cache/RBMCat_adult_0_f488d2ab-0.data.gz')['adult']\n",
    "cstest = CSTest()\n",
    "col = 'workclass'\n",
    "cstest.compute(real_data[col], synthetic_data[col])"
   ]
  },
  {
   "cell_type": "code",
   "execution_count": 46,
   "metadata": {},
   "outputs": [
    {
     "data": {
      "text/plain": [
       "[4.800963054878173e-24,\n",
       " 0.999674608049208,\n",
       " 0.0012402751091651924,\n",
       " 0.46811399262279696,\n",
       " 0.9030485042867978,\n",
       " 0.21768328065411066,\n",
       " 0.5904021862205331,\n",
       " 0.5803870809710304,\n",
       " 0.7029572283183447]"
      ]
     },
     "execution_count": 46,
     "metadata": {},
     "output_type": "execute_result"
    }
   ],
   "source": [
    "fields = [col for col, dtype in real_data.dtypes.items() if dtype == 'object']\n",
    "scores = []\n",
    "for column_name, real_column in real_data.items():\n",
    "    if column_name in fields:\n",
    "        real_column = real_column.values\n",
    "        synthetic_column = synthetic_data[column_name].values\n",
    "\n",
    "        score = cstest.compute(\n",
    "            real_column,\n",
    "            synthetic_column\n",
    "        )\n",
    "        scores.append(score)\n",
    "scores"
   ]
  },
  {
   "cell_type": "code",
   "execution_count": 47,
   "metadata": {},
   "outputs": [
    {
     "data": {
      "text/plain": [
       "0.4959452395813319"
      ]
     },
     "execution_count": 47,
     "metadata": {},
     "output_type": "execute_result"
    }
   ],
   "source": [
    "np.nanmean(scores)"
   ]
  },
  {
   "cell_type": "code",
   "execution_count": 5,
   "metadata": {},
   "outputs": [
    {
     "name": "stdout",
     "output_type": "stream",
     "text": [
      "{'fields': {'age': {'type': 'numerical', 'subtype': 'integer'}, 'workclass': {'type': 'categorical'}, 'fnlwgt': {'type': 'numerical', 'subtype': 'integer'}, 'education': {'type': 'categorical'}, 'education-num': {'type': 'numerical', 'subtype': 'integer'}, 'marital-status': {'type': 'categorical'}, 'occupation': {'type': 'categorical'}, 'relationship': {'type': 'categorical'}, 'race': {'type': 'categorical'}, 'sex': {'type': 'categorical'}, 'capital-gain': {'type': 'numerical', 'subtype': 'integer'}, 'capital-loss': {'type': 'numerical', 'subtype': 'integer'}, 'hours-per-week': {'type': 'numerical', 'subtype': 'integer'}, 'native-country': {'type': 'categorical'}, 'label': {'type': 'categorical'}}, 'path': 'adult.csv', 'target': 'label'}\n"
     ]
    },
    {
     "data": {
      "text/plain": [
       "0.4959452395813319"
      ]
     },
     "execution_count": 5,
     "metadata": {},
     "output_type": "execute_result"
    }
   ],
   "source": [
    "from sdmetrics.single_table.multi_single_column import CSTest as CSTest2\n",
    "from sdgym.datasets import load_dataset\n",
    "import compress_pickle\n",
    "\n",
    "real_data = compress_pickle.load('sdgym_cache/Identity_adult_0_f488d2ab-0.data.gz')['adult']\n",
    "synthetic_data = compress_pickle.load('sdgym_cache/RBMCat_adult_0_f488d2ab-0.data.gz')['adult']\n",
    "cstest2 = CSTest2()\n",
    "metadata = load_dataset('adult')._metadata['tables']['adult']\n",
    "print(metadata)\n",
    "CSTest2.compute(real_data, synthetic_data, metadata)"
   ]
  },
  {
   "cell_type": "code",
   "execution_count": 4,
   "metadata": {},
   "outputs": [
    {
     "name": "stdout",
     "output_type": "stream",
     "text": [
      "<class 'sdmetrics.single_column.statistical.cstest.CSTest'>\n"
     ]
    }
   ],
   "source": [
    "print(CSTest2.single_column_metric)"
   ]
  },
  {
   "cell_type": "code",
   "execution_count": 8,
   "metadata": {},
   "outputs": [
    {
     "data": {
      "text/html": [
       "<div>\n",
       "<style scoped>\n",
       "    .dataframe tbody tr th:only-of-type {\n",
       "        vertical-align: middle;\n",
       "    }\n",
       "\n",
       "    .dataframe tbody tr th {\n",
       "        vertical-align: top;\n",
       "    }\n",
       "\n",
       "    .dataframe thead th {\n",
       "        text-align: right;\n",
       "    }\n",
       "</style>\n",
       "<table border=\"1\" class=\"dataframe\">\n",
       "  <thead>\n",
       "    <tr style=\"text-align: right;\">\n",
       "      <th></th>\n",
       "      <th>synthesizer</th>\n",
       "      <th>dataset</th>\n",
       "      <th>modality</th>\n",
       "      <th>iteration</th>\n",
       "      <th>metric</th>\n",
       "      <th>error</th>\n",
       "      <th>score</th>\n",
       "      <th>metric_time</th>\n",
       "      <th>model_time</th>\n",
       "      <th>run_id</th>\n",
       "    </tr>\n",
       "  </thead>\n",
       "  <tbody>\n",
       "    <tr>\n",
       "      <th>0</th>\n",
       "      <td>dummy</td>\n",
       "      <td>adult</td>\n",
       "      <td>single-table</td>\n",
       "      <td>0</td>\n",
       "      <td>CSTest</td>\n",
       "      <td>None</td>\n",
       "      <td>0.495945</td>\n",
       "      <td>0.028127</td>\n",
       "      <td>0.01126</td>\n",
       "      <td>7a3ca873-6</td>\n",
       "    </tr>\n",
       "  </tbody>\n",
       "</table>\n",
       "</div>"
      ],
      "text/plain": [
       "  synthesizer dataset      modality  iteration  metric error     score  \\\n",
       "0       dummy   adult  single-table          0  CSTest  None  0.495945   \n",
       "\n",
       "   metric_time  model_time      run_id  \n",
       "0     0.028127     0.01126  7a3ca873-6  "
      ]
     },
     "execution_count": 8,
     "metadata": {},
     "output_type": "execute_result"
    }
   ],
   "source": [
    "def dummy(real_data, metadata):\n",
    "    table_name = metadata.get_tables()[0]\n",
    "    synthetic = compress_pickle.load('sdgym_cache/RBMCat_adult_0_f488d2ab-0.data.gz')['adult']\n",
    "    return {table_name: synthetic}\n",
    "\n",
    "import sdgym\n",
    "from sdgym.synthesizers import Identity, Independent\n",
    "\n",
    "metrics = ['CSTest']\n",
    "synthesizers = [dummy]\n",
    "scores = sdgym.run(synthesizers=synthesizers, datasets=['adult'], metrics=metrics)\n",
    "scores"
   ]
  },
  {
   "cell_type": "code",
   "execution_count": null,
   "metadata": {},
   "outputs": [],
   "source": []
  }
 ],
 "metadata": {
  "kernelspec": {
   "display_name": "Python 3",
   "language": "python",
   "name": "python3"
  },
  "language_info": {
   "codemirror_mode": {
    "name": "ipython",
    "version": 3
   },
   "file_extension": ".py",
   "mimetype": "text/x-python",
   "name": "python",
   "nbconvert_exporter": "python",
   "pygments_lexer": "ipython3",
   "version": "3.8.5"
  }
 },
 "nbformat": 4,
 "nbformat_minor": 4
}
